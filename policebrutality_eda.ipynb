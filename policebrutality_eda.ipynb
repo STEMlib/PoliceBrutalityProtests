{
 "cells": [
  {
   "cell_type": "markdown",
   "metadata": {},
   "source": [
    "# Police Brutality Protests - US 2020 \n",
    "\n",
    "## Table of Contents\n",
    "* [Abstract](#abstract)\n",
    "* [Introduction](#intro)"
   ]
  },
  {
   "cell_type": "markdown",
   "metadata": {},
   "source": [
    "## Abstract <a class=\"anchor\" id=\"abstract\"></a>\n",
    "This is a statistical analysis of the police brutality protests seen across the US in 2020. \n",
    "\n",
    "## Introduction <a class=\"anchor\" id=\"intro\"></a>\n",
    "According to \"[Good Fences: The Importance of Setting Boundaries for Peaceful Coexistence](https://journals.plos.org/plosone/article?id=10.1371/journal.pone.0095660)\" ethnic violence can be attributed to tensions seen through the analogy of fences. Put another way, their research was able to accurately predict ethnic violence based on the large scale structure of a society. If we look at these protests by analogy--one \"ethnic\" group versus another--can we predict where the most violent protests are occuring based on the structure of the community? \n",
    "\n",
    "The main finding of the paper is that violence is likely when \"patches\" are of intermediate size. Patches are geographic regions with same ethics and violence occurs when the patches are between 20km to 60km, which happens to be of the order a person might walk in a day. When islands or peninsulas of one group are surrounded by another group (or groups) then violence is likely. The solution to peace is\n",
    "1. force the groups to mix (decrease average patch size)\n",
    "2. accelerate separation\n",
    "3. well defined boundaries\n",
    "\n",
    "In the case of political groups as ethnic groups and protests we can't force mixing or acceleration but we could, in principle, enforce boundaries. In historical context this was the purpose of the flag on the battlefield. However, in modern political times we also cannot truly enforce boundaries. People have a right to travel through the states as they please. But we can, however, look at the protests through the lens of \"fences\" to find correlations with those protests which are violent."
   ]
  },
  {
   "cell_type": "markdown",
   "metadata": {},
   "source": [
    "## Exploratory Data Analysis <a class=\"anchor\" id=\"eda\"></a>\n",
    "\n",
    "The purpose of this section is to explore the data provided by [Kaggle](https://www.kaggle.com/jpmiller/protests-against-police-violence). We start by importing the data and searching for relevant data."
   ]
  },
  {
   "cell_type": "code",
   "execution_count": null,
   "metadata": {},
   "outputs": [],
   "source": [
    "import pandas as pd\n",
    "\n",
    "\n",
    "df = pd.read_csv(filename)"
   ]
  }
 ],
 "metadata": {
  "kernelspec": {
   "display_name": "Python 3",
   "language": "python",
   "name": "python3"
  },
  "language_info": {
   "codemirror_mode": {
    "name": "ipython",
    "version": 3
   },
   "file_extension": ".py",
   "mimetype": "text/x-python",
   "name": "python",
   "nbconvert_exporter": "python",
   "pygments_lexer": "ipython3",
   "version": "3.6.4"
  }
 },
 "nbformat": 4,
 "nbformat_minor": 4
}
